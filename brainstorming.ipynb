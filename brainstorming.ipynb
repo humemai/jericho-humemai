{
 "cells": [
  {
   "cell_type": "code",
   "execution_count": 8,
   "metadata": {},
   "outputs": [],
   "source": [
    "import json\n",
    "\n",
    "\n",
    "with open(\"./results/walkthrough-agent.json\", \"r\", encoding=\"utf-8\") as f:\n",
    "    walkthrough_results = json.load(f)"
   ]
  },
  {
   "cell_type": "code",
   "execution_count": null,
   "metadata": {},
   "outputs": [
    {
     "name": "stdout",
     "output_type": "stream",
     "text": [
      "yomomma 98\n",
      "reverb 74\n",
      "advent 277\n",
      "acorncourt 17\n",
      "dragon 101\n",
      "temple 181\n",
      "afflicted 98\n",
      "905 22\n",
      "ztuu 84\n",
      "gold 345\n",
      "awaken 57\n",
      "jewel 223\n",
      "ludicorp 364\n",
      "enchanter 265\n",
      "detective 51\n",
      "anchor 531\n",
      "adventureland 170\n",
      "balances 122\n",
      "sorcerer 254\n",
      "omniquest 78\n",
      "zork3 273\n",
      "spirit 1264\n",
      "karn 362\n",
      "zork1 396\n",
      "library 52\n",
      "deephome 327\n",
      "zenon 83\n",
      "tryst205 518\n",
      "spellbrkr 412\n",
      "inhumane 122\n",
      "pentari 49\n",
      "snacktime 34\n",
      "moonlit 59\n"
     ]
    },
    {
     "ename": "",
     "evalue": "",
     "output_type": "error",
     "traceback": [
      "\u001b[1;31mThe Kernel crashed while executing code in the current cell or a previous cell. \n",
      "\u001b[1;31mPlease review the code in the cell(s) to identify a possible cause of the failure. \n",
      "\u001b[1;31mClick <a href='https://aka.ms/vscodeJupyterKernelCrash'>here</a> for more info. \n",
      "\u001b[1;31mView Jupyter <a href='command:jupyter.viewOutput'>log</a> for further details."
     ]
    }
   ],
   "source": [
    "for key, val in walkthrough_results.items():\n",
    "    print(key, val[\"steps\"])"
   ]
  },
  {
   "cell_type": "code",
   "execution_count": 1,
   "metadata": {},
   "outputs": [
    {
     "name": "stderr",
     "output_type": "stream",
     "text": [
      "/home/tk/.virtualenvs/dev-python3.11/lib/python3.11/site-packages/tqdm/auto.py:21: TqdmWarning: IProgress not found. Please update jupyter and ipywidgets. See https://ipywidgets.readthedocs.io/en/stable/user_install.html\n",
      "  from .autonotebook import tqdm as notebook_tqdm\n"
     ]
    }
   ],
   "source": [
    "import json\n",
    "import argparse\n",
    "from utils import get_game_paths, create_game\n",
    "from tqdm.auto import tqdm\n",
    "from agent import RandomAgent, WalkThroughAgent, LLMAgent\n",
    "\n",
    "\n",
    "env = create_game(\"z-machine-games-master/jericho-game-suite/zork1.z5\")\n",
    "agent = LLMAgent(\n",
    "    api_key=\"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\",\n",
    "    model=\"meta-llama/llama-3.2-1b-instruct\",\n",
    "    env=env,\n",
    "    max_steps=10,\n",
    "    max_chat_history_size=2,\n",
    "    fallback_to_random=True,\n",
    "    timeout=10,\n",
    ")\n",
    "agent.run()"
   ]
  },
  {
   "cell_type": "code",
   "execution_count": 2,
   "metadata": {},
   "outputs": [
    {
     "data": {
      "text/plain": [
       "{0: 'Copyright (c) 1981, 1982, 1983 Infocom, Inc. All rights reserved.\\nZORK is a registered trademark of Infocom, Inc.\\nRevision 88 / Serial number 840726\\n\\nWest of House\\nYou are standing in an open field west of a white house, with a boarded front door.\\nThere is a small mailbox here.\\n\\n',\n",
       " 1: 'Opening the small mailbox reveals a leaflet.\\n\\n',\n",
       " 2: 'Taken.\\n\\n',\n",
       " 3: 'Dropped.\\n\\n',\n",
       " 4: 'Taken.\\n\\n',\n",
       " 5: 'Dropped.\\n\\n',\n",
       " 6: 'Taken.\\n\\n',\n",
       " 7: 'North of House\\nYou are facing the north side of a white house. There is no door here, and all the windows are boarded up. To the north a narrow path winds through the trees.\\n\\n',\n",
       " 8: 'Behind House\\nYou are behind the white house. A path leads into the forest to the east. In one corner of the house there is a small window which is slightly ajar.\\n\\n',\n",
       " 9: 'With great effort, you open the window far enough to allow entry.\\n\\n',\n",
       " 10: 'Clearing\\nYou are in a small clearing in a well marked forest path that extends to the east and west.\\n\\n'}"
      ]
     },
     "execution_count": 2,
     "metadata": {},
     "output_type": "execute_result"
    }
   ],
   "source": [
    "agent.observations"
   ]
  },
  {
   "cell_type": "code",
   "execution_count": 3,
   "metadata": {},
   "outputs": [
    {
     "data": {
      "text/plain": [
       "{0: 'open mailbox',\n",
       " 1: 'take leaflet',\n",
       " 2: 'put down leaflet',\n",
       " 3: 'take leaflet',\n",
       " 4: 'put down leaflet',\n",
       " 5: 'take leaflet',\n",
       " 6: 'north',\n",
       " 7: 'east',\n",
       " 8: 'open window',\n",
       " 9: 'east'}"
      ]
     },
     "execution_count": 3,
     "metadata": {},
     "output_type": "execute_result"
    }
   ],
   "source": [
    "agent.actions"
   ]
  },
  {
   "cell_type": "code",
   "execution_count": 4,
   "metadata": {},
   "outputs": [
    {
     "data": {
      "text/plain": [
       "{1: 0, 2: 0, 3: 0, 4: 0, 5: 0, 6: 0, 7: 0, 8: 0, 9: 0, 10: 0}"
      ]
     },
     "execution_count": 4,
     "metadata": {},
     "output_type": "execute_result"
    }
   ],
   "source": [
    "agent.rewards"
   ]
  },
  {
   "cell_type": "code",
   "execution_count": 5,
   "metadata": {},
   "outputs": [
    {
     "data": {
      "text/plain": [
       "[{'role': 'system',\n",
       "  'content': 'You are an AI agent playing a text-based adventure game. Your goal is to maximize your score by solving puzzles, exploring the environment, and collecting important items.\\nGuidelines:\\n1. Carefully read and remember descriptions, noting items, locations, and potential clues.\\n2. Maintain awareness of your inventory and use inventory items creatively to overcome challenges.\\n3. Prioritize actions that explore new areas or interact meaningfully with your surroundings.\\n4. Pay attention to hints in textual descriptions that may imply hidden puzzles or useful interactions.\\n5. Avoid repeating actions unless you have new reasons to try them.\\nIMPORTANT: Respond ONLY with the exact action from the provided valid actions list.'},\n",
       " {'role': 'assistant', 'content': 'Step 7: Action: east'},\n",
       " {'role': 'user', 'content': 'Step 8: Reward: 0'},\n",
       " {'role': 'user',\n",
       "  'content': 'Step 8: Observation: Behind House\\nYou are behind the white house. A path leads into the forest to the east. In one corner of the house there is a small window which is slightly ajar.\\n\\n'},\n",
       " {'role': 'assistant', 'content': 'Step 8: Action: open window'},\n",
       " {'role': 'user', 'content': 'Step 9: Reward: 0'},\n",
       " {'role': 'user',\n",
       "  'content': 'Step 9: Observation: With great effort, you open the window far enough to allow entry.\\n\\n'},\n",
       " {'role': 'assistant', 'content': 'Step 9: Action: east'},\n",
       " {'role': 'user', 'content': 'Step 10: Reward: 0'},\n",
       " {'role': 'user',\n",
       "  'content': 'Step 10: Observation: Clearing\\nYou are in a small clearing in a well marked forest path that extends to the east and west.\\n\\n'}]"
      ]
     },
     "execution_count": 5,
     "metadata": {},
     "output_type": "execute_result"
    }
   ],
   "source": [
    "agent.chat_history"
   ]
  }
 ],
 "metadata": {
  "kernelspec": {
   "display_name": "dev-python3.11",
   "language": "python",
   "name": "python3"
  },
  "language_info": {
   "codemirror_mode": {
    "name": "ipython",
    "version": 3
   },
   "file_extension": ".py",
   "mimetype": "text/x-python",
   "name": "python",
   "nbconvert_exporter": "python",
   "pygments_lexer": "ipython3",
   "version": "3.11.11"
  }
 },
 "nbformat": 4,
 "nbformat_minor": 2
}
